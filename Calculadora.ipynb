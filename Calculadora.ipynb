{
 "cells": [
  {
   "cell_type": "markdown",
   "metadata": {},
   "source": [
    "# Calculadora cientÃ­fica"
   ]
  },
  {
   "cell_type": "markdown",
   "metadata": {},
   "source": [
    "## LÃ­nea de cÃ¡lculo\n",
    "La lÃ­nea de cÃ¡lculo permite ejecutar en ella operaciones simples, como sumas, restas, multiplicaciones, divisiones, raÃ­ces y potencias."
   ]
  },
  {
   "cell_type": "markdown",
   "metadata": {},
   "source": [
    "# # Solucionador de ecuaciones\n",
    "El solucionador de ecuaciones permite resolver ecuaciones lineales de una incÃ³gnita y sistemas de ecuaciones lineales de dos incÃ³gnitas"
   ]
  },
  {
   "cell_type": "code",
   "execution_count": null,
   "metadata": {
    "collapsed": false,
    "scrolled": false
   },
   "outputs": [
    {
     "name": "stdout",
     "output_type": "stream",
     "text": [
      "IPython console for SymPy 0.7.6.1 (Python 2.7.10-32-bit) (ground types: python)\n",
      "\n",
      "These commands were executed:\n",
      ">>> from __future__ import division\n",
      ">>> from sympy import *\n",
      ">>> x, y, z, t = symbols('x y z t')\n",
      ">>> k, m, n = symbols('k m n', integer=True)\n",
      ">>> f, g, h = symbols('f g h', cls=Function)\n",
      ">>> init_printing()\n",
      "\n",
      "Documentation can be found at http://www.sympy.org\n",
      "Introduce operaciÃƒÂ³n: 3**14\n"
     ]
    },
    {
     "data": {
      "text/latex": [
       "$$4782969$$"
      ],
      "text/plain": [
       "<IPython.core.display.Math object>"
      ]
     },
     "metadata": {},
     "output_type": "display_data"
    }
   ],
   "source": [
    "#LÃ­nea de cÃ¡culo\n",
    "from IPython.display import display, Math, Latex\n",
    "import sympy\n",
    "import scipy\n",
    "import string\n",
    "import numpy\n",
    "import math\n",
    "import sympy\n",
    "from mpmath import * #Permite usar fac() para factoriales [5! = fac(5)]\n",
    "from sympy import init_session\n",
    "from __future__ import division\n",
    "from sympy.solvers import solve\n",
    "%matplotlib inline\n",
    "%matplotlib notebook\n",
    "init_session()\n",
    "m1 = 0             #Hueco para gardar nÃºmero 1\n",
    "m2 = 0             #Hueco para gardar nÃºmero 2\n",
    "m3 = 0             #Hueco para gardar nÃºmero 3\n",
    "i = 1              #Para el loop\n",
    "e = math.e         #NÃºmero e\n",
    "p = math.pi        #NÃºmero pi\n",
    "G = 6.67*(10**-11) #Constante de la gravitaciÃ³n Universal\n",
    "c = 299792458      #Velocidad de la luz en el vacÃ­o\n",
    "while i == 1:\n",
    "    a = raw_input(\"Introduce operaciÃ³n: \")\n",
    "    a = string.replace(a, \"x\", \"*x\")\n",
    "    a = string.replace(a, \"+\", \" + \")\n",
    "    a = string.replace(a, \"-\", \" - \")\n",
    "    a = string.replace(a, \"/\", \" / \")\n",
    "    if \"x\" in a: #Solucionar ecuaciones\n",
    "        if \"derivar\" not in a:\n",
    "            y = sympy.latex(solve(a, x))\n",
    "            display(Math(y))\n",
    "        elif \"derivar\" in a: #Derivar\n",
    "            a = string.replace(a, \"derivar \", \"\")\n",
    "            if \"x\" in a:\n",
    "                var = \"x\"\n",
    "            elif \"y\" in a:\n",
    "                var = \"y\"\n",
    "            elif \"z\" in a:\n",
    "                var = \"z\"\n",
    "            display(Math(sympy.latex(diff(a, var, 1))))\n",
    "    if \"x\" not in a:\n",
    "        if a == \"exit\":\n",
    "            break\n",
    "        elif a == \"latex\":\n",
    "            aa = \"Introduce expresiÃ³n\"\n",
    "            display(Math(sympy.latex(aa)))\n",
    "        else:\n",
    "            display(Math(sympy.latex(eval((a)))))\n",
    "            ans = eval((a)) #guarda el resultado de la Ãºltima operaciÃ³n en ans"
   ]
  },
  {
   "cell_type": "code",
   "execution_count": null,
   "metadata": {
    "collapsed": false,
    "scrolled": true
   },
   "outputs": [],
   "source": [
    "#Ecuaciones\n",
    "from sympy import limit\n",
    "from sympy import *\n",
    "from sympy import limit, Symbol, sin, oo\n",
    "import scipy\n",
    "import numpy\n",
    "import math\n",
    "import sympy\n",
    "from sympy.solvers import solve\n",
    "from IPython.display import display, Math, Latex\n",
    "x, y, z = symbols('x y z')\n",
    "%matplotlib inline\n",
    "%matplotlib notebook\n",
    "loop = 1\n",
    "while loop == 1:\n",
    "    print \"Tipo de ecuaciÃ³n: \"\n",
    "    print \"1) EcuaciÃ³n de una incÃ³gnita\"\n",
    "    print \"2) sistema de dos ecuaciones\"\n",
    "    choice = input(\"Seleccione una opciÃ³n: \")\n",
    "    if choice == 1:\n",
    "        hj = raw_input(\"Introduce expresion a resolver: \")\n",
    "        y = sympy.latex(solve(hj, x))\n",
    "        display(Math(y))\n",
    "    elif choice == 2:\n",
    "        print \"Ingrese las ecuaciones despejadas y sin igualar a 0 (Ej 2*x + 3*y - 3)\"\n",
    "        print \"Ecuacion 1\"\n",
    "        fun1 = raw_input()\n",
    "        print \"Ecuacion 2\"\n",
    "        fun2 = raw_input()\n",
    "        solucion = solve([fun1, fun2], [x, y])\n",
    "        cx = sympy.latex(solucion)\n",
    "        display(Math((cx)))\n",
    "    elif choice == \"a\":\n",
    "        break"
   ]
  },
  {
   "cell_type": "markdown",
   "metadata": {},
   "source": [
    "## Calculo diferencial\n",
    "La funciÃ³n de cÃ¡lculo diferencial permite calcular integrales y derivadas de funciones"
   ]
  },
  {
   "cell_type": "code",
   "execution_count": 2,
   "metadata": {
    "collapsed": false,
    "scrolled": true
   },
   "outputs": [
    {
     "name": "stdout",
     "output_type": "stream",
     "text": [
      "IPython console for SymPy 0.7.6.1 (Python 2.7.10-32-bit) (ground types: python)\n",
      "\n",
      "These commands were executed:\n",
      ">>> from __future__ import division\n",
      ">>> from sympy import *\n",
      ">>> x, y, z, t = symbols('x y z t')\n",
      ">>> k, m, n = symbols('k m n', integer=True)\n",
      ">>> f, g, h = symbols('f g h', cls=Function)\n",
      ">>> init_printing()\n",
      "\n",
      "Documentation can be found at http://www.sympy.org\n",
      "Que desea hacer:\n",
      "1) Derivar\n",
      "2) Integrar\n",
      "3) integral definida\n",
      "Seleccione una opcion: 3\n",
      "Introduce funcion a integrar: 3*x\n"
     ]
    },
    {
     "ename": "NameError",
     "evalue": "name 'a' is not defined",
     "output_type": "error",
     "traceback": [
      "\u001b[1;31m---------------------------------------------------------------------------\u001b[0m",
      "\u001b[1;31mNameError\u001b[0m                                 Traceback (most recent call last)",
      "\u001b[1;32m<ipython-input-2-826a72aa5ee7>\u001b[0m in \u001b[0;36m<module>\u001b[1;34m()\u001b[0m\n\u001b[0;32m     29\u001b[0m         \u001b[0mdisplay\u001b[0m\u001b[1;33m(\u001b[0m\u001b[0mIntegral\u001b[0m\u001b[1;33m(\u001b[0m\u001b[0mraw_input\u001b[0m\u001b[1;33m(\u001b[0m\u001b[1;34m\"Introduce funcion a integrar: \"\u001b[0m\u001b[1;33m)\u001b[0m\u001b[1;33m,\u001b[0m \u001b[0mx\u001b[0m\u001b[1;33m)\u001b[0m\u001b[1;33m)\u001b[0m\u001b[1;33m\u001b[0m\u001b[0m\n\u001b[0;32m     30\u001b[0m     \u001b[1;32melif\u001b[0m \u001b[0mchoice\u001b[0m \u001b[1;33m==\u001b[0m \u001b[1;34m\"3\"\u001b[0m\u001b[1;33m:\u001b[0m\u001b[1;33m\u001b[0m\u001b[0m\n\u001b[1;32m---> 31\u001b[1;33m         \u001b[0mfunc\u001b[0m \u001b[1;33m=\u001b[0m \u001b[0mIntegral\u001b[0m\u001b[1;33m(\u001b[0m\u001b[0mraw_input\u001b[0m\u001b[1;33m(\u001b[0m\u001b[1;34m\"Introduce funcion a integrar: \"\u001b[0m\u001b[1;33m)\u001b[0m\u001b[1;33m,\u001b[0m \u001b[0mx\u001b[0m\u001b[1;33m,\u001b[0m \u001b[1;33m(\u001b[0m\u001b[0mx\u001b[0m\u001b[1;33m,\u001b[0m \u001b[0ma\u001b[0m\u001b[1;33m,\u001b[0m \u001b[0mb\u001b[0m\u001b[1;33m)\u001b[0m\u001b[1;33m)\u001b[0m\u001b[1;33m\u001b[0m\u001b[0m\n\u001b[0m\u001b[0;32m     32\u001b[0m         \u001b[0ma\u001b[0m \u001b[1;33m=\u001b[0m \u001b[0mraw_input\u001b[0m\u001b[1;33m(\u001b[0m\u001b[1;34m\"Introduce primer valor del intervalo: \"\u001b[0m\u001b[1;33m)\u001b[0m\u001b[1;33m\u001b[0m\u001b[0m\n\u001b[0;32m     33\u001b[0m         \u001b[0mb\u001b[0m \u001b[1;33m=\u001b[0m \u001b[0mraw_input\u001b[0m\u001b[1;33m(\u001b[0m\u001b[1;34m\"Introduce segundo valor del intervalo: \"\u001b[0m\u001b[1;33m)\u001b[0m\u001b[1;33m\u001b[0m\u001b[0m\n",
      "\u001b[1;31mNameError\u001b[0m: name 'a' is not defined"
     ]
    }
   ],
   "source": [
    "#CÃ¡lculo diferencial\n",
    "import numpy as np\n",
    "import math\n",
    "import sympy\n",
    "from __future__ import division\n",
    "import matplotlib.pyplot as plt\n",
    "from sympy import Symbol\n",
    "from IPython.display import display, Math, Latex\n",
    "%matplotlib inline\n",
    "%matplotlib notebook\n",
    "from sympy import init_session\n",
    "from sympy import *\n",
    "init_session()\n",
    "x, y, z = symbols('x y z')\n",
    "x = symbols('x')\n",
    "gloop = 1\n",
    "while gloop == 1:\n",
    "    print \"Que desea hacer:\"\n",
    "    print \"1) Derivar\"\n",
    "    print \"2) Integrar\"\n",
    "    print \"3) integral definida\"\n",
    "    choice = raw_input(\"Seleccione una opcion: \")\n",
    "    if choice == \"1\":\n",
    "        func = raw_input(\"Introduzca la funcion a derivar: \")\n",
    "        var = raw_input(\"Para que variable quieres derivar?: \")\n",
    "        display(Math(sympy.latex(diff(func, var, 1))))\n",
    "#####################################################\n",
    "    elif choice == \"2\":\n",
    "        display(Integral(raw_input(\"Introduce funcion a integrar: \"), x))\n",
    "    elif choice == \"3\":\n",
    "        func = Integral(raw_input(\"Introduce funcion a integrar: \"), x, (x, a, b))\n",
    "        a = raw_input(\"Introduce primer valor del intervalo: \")\n",
    "        b = raw_input(\"Introduce segundo valor del intervalo: \")\n",
    "        display(func).evalf(20, quad='osc')\n",
    "        break\n",
    "    elif choice == \"a\":\n",
    "        break"
   ]
  },
  {
   "cell_type": "code",
   "execution_count": null,
   "metadata": {
    "collapsed": false
   },
   "outputs": [],
   "source": [
    "#AnÃ¡lisis de funciones\n",
    "#WIP\n",
    "import numpy as np\n",
    "import math\n",
    "import sympy\n",
    "from __future__ import division\n",
    "import matplotlib.pyplot as plt\n",
    "from sympy import Symbol\n",
    "from IPython.display import display, Math, Latex\n",
    "%matplotlib inline\n",
    "%matplotlib notebook\n",
    "from sympy import init_session\n",
    "from sympy import *\n",
    "init_session()\n",
    "x, y, z = symbols('x y z')\n",
    "x = symbols('x')\n",
    "gloop = 1\n",
    "while gloop == 1:\n",
    "    fun = raw_input(\"Ingrese funcion: \")\n",
    "    print \" \"\n",
    "    print \"Puntos de corte con X: \"\n",
    "    display(Math(sympy.latex(solve(fun, x))))\n",
    "    print \"Puntos de corte con Y: \"\n",
    "    x = 0\n",
    "    display(Math(sympy.latex(eval(fun))))\n",
    "    x = symbols('x')\n",
    "    print \"MÃ¡ximos y MÃ­nimos\"\n",
    "    if sympy.latex(diff(fun, x, 1)) = 0:\n",
    "        if sympy.latex(diff(fun, x, 2)) < 0:\n",
    "            print \"MÃ­nimo relativo\"\n",
    "            sympy.latex(fun.subs(x, solve(diff(fun, x, 2))))\n",
    "    "
   ]
  },
  {
   "cell_type": "code",
   "execution_count": null,
   "metadata": {
    "collapsed": false
   },
   "outputs": [],
   "source": [
    "import numpy as np\n",
    "import matplotlib.pyplot as plt\n",
    "from __future__ import division\n",
    "import sympy\n",
    "from IPython.display import display, Math, Latex\n",
    "%matplotlib inline\n",
    "%matplotlib notebook\n",
    "from sympy import Symbol\n",
    "from sympy import init_session\n",
    "from sympy import *\n",
    "init_session()\n",
    "x, y, z = symbols('x y z')\n",
    "\n",
    "\n",
    "# Example data\n",
    "t = np.arange(0, 5, +0.01)\n",
    "s = raw_input(\"Introduce funcion: \") #FunciÃ³n a representar\n",
    "\n",
    "plt.rc('text', usetex=True)\n",
    "plt.rc('font', family='serif')\n",
    "plt.plot(t, s)\n",
    "plt.xlabel(r'\\textbf{X}')\n",
    "plt.ylabel(r'\\textit{Y}',fontsize=16)\n",
    "# Make room for the ridiculously large title.\n",
    "plt.subplots_adjust(top=0.8)\n",
    "\n",
    "plt.savefig('tex_demo')\n",
    "plt.show()"
   ]
  },
  {
   "cell_type": "code",
   "execution_count": null,
   "metadata": {
    "canopy_exercise": {
     "cell_type": "<None>"
    },
    "collapsed": false
   },
   "outputs": [],
   "source": [
    "import numpy as np\n",
    "import math\n",
    "import sympy\n",
    "from __future__ import division\n",
    "import matplotlib.pyplot as plt\n",
    "from sympy import Symbol\n",
    "from IPython.display import display, Math, Latex\n",
    "%matplotlib inline\n",
    "%matplotlib notebook\n",
    "from sympy import init_session\n",
    "from sympy import *\n",
    "init_session()"
   ]
  }
 ],
 "metadata": {
  "kernelspec": {
   "display_name": "Python 2",
   "language": "python",
   "name": "python2"
  },
  "language_info": {
   "codemirror_mode": {
    "name": "ipython",
    "version": 2
   },
   "file_extension": ".py",
   "mimetype": "text/x-python",
   "name": "python",
   "nbconvert_exporter": "python",
   "pygments_lexer": "ipython2",
   "version": "2.7.10"
  }
 },
 "nbformat": 4,
 "nbformat_minor": 0
}
