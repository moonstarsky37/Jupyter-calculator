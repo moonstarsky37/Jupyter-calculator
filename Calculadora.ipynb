{
 "cells": [
  {
   "cell_type": "markdown",
   "metadata": {},
   "source": [
    "# Calculadora científica"
   ]
  },
  {
   "cell_type": "markdown",
   "metadata": {},
   "source": [
    "## Línea de Cálculo\n",
    "La línea de cálculo permite ejecutar en ella operaciones simples, como sumas, restas, multiplicaciones, divisiones, raíes y potencias."
   ]
  },
  {
   "cell_type": "code",
   "execution_count": null,
   "metadata": {
    "collapsed": false,
    "scrolled": false
   },
   "outputs": [],
   "source": [
    "# -*- coding: utf-8 -*-\n",
    "#Línea de cálculo\n",
    "from IPython.display import display, Math, Latex\n",
    "import sympy\n",
    "import scipy\n",
    "import string\n",
    "import numpy\n",
    "import math\n",
    "import sympy\n",
    "from mpmath import * #Permite usar fac() para factoriales [5! = fac(5)]\n",
    "from sympy import init_session\n",
    "from __future__ import division\n",
    "from sympy.solvers import solve\n",
    "%matplotlib inline\n",
    "%matplotlib notebook\n",
    "init_session()\n",
    "i = 1              #Para el loop\n",
    "e = math.e         #Número e\n",
    "p = math.pi        #Número pi\n",
    "G = 6.67*(10**-11) #Constante de la gravitación Universal\n",
    "c = 299792458      #Velocidad de la luz en el vacío\n",
    "while i == 1:\n",
    "    a = raw_input(\"Introduce operación: \")\n",
    "    a = string.replace(a, \"x\", \"*x\")\n",
    "    a = string.replace(a, \"y\", \"*y\")\n",
    "    a = string.replace(a, \"z\", \"*z\")\n",
    "    a = string.replace(a, \"+\", \" + \")\n",
    "    a = string.replace(a, \"-\", \" - \")\n",
    "    a = string.replace(a, \"/\", \" / \")\n",
    "    if \"x\" in a: #Solucionar ecuaciones\n",
    "        if \"derivar\" not in a:\n",
    "            y = sympy.latex(solve(a, x, rational=True, implicit=True))\n",
    "            display(Math(y))\n",
    "        elif \"derivar\" in a: #Derivar\n",
    "            a = string.replace(a, \"derivar \", \"\")\n",
    "            if \"x\" in a:\n",
    "                var = \"x\"\n",
    "            elif \"y\" in a:\n",
    "                var = \"y\"\n",
    "            elif \"z\" in a:\n",
    "                var = \"z\"\n",
    "            display(Math(sympy.latex(diff(a, var, 1))))\n",
    "    if \"x\" not in a:\n",
    "        if a == \"exit\":\n",
    "            break\n",
    "        elif a == \"latex\":\n",
    "            aa = \"Introduce expresión\"\n",
    "            display(Math(sympy.latex(aa)))\n",
    "        else:\n",
    "            display(Math(sympy.latex(eval((a)))))\n",
    "            ans = eval((a)) #guarda el resultado de la última operación en ans"
   ]
  },
  {
   "cell_type": "code",
   "execution_count": null,
   "metadata": {
    "collapsed": false,
    "scrolled": true
   },
   "outputs": [],
   "source": [
    "# -*- coding: utf-8 -*-\n",
    "#Ecuaciones\n",
    "from sympy import limit\n",
    "from sympy import *\n",
    "from sympy import limit, Symbol, sin, oo\n",
    "import scipy\n",
    "import numpy\n",
    "import math\n",
    "import sympy\n",
    "from sympy.solvers import solve\n",
    "from IPython.display import display, Math, Latex\n",
    "x, y, z = symbols('x y z')\n",
    "%matplotlib inline\n",
    "%matplotlib notebook\n",
    "loop = 1\n",
    "while loop == 1:\n",
    "    print \"Tipo de ecuación: \"\n",
    "    print \"1) Ecuación de una incógnita\"\n",
    "    print \"2) sistema de dos ecuaciones\"\n",
    "    choice = input(\"Seleccione una opción: \")\n",
    "    if choice == 1:\n",
    "        hj = raw_input(\"Introduce expresion a resolver: \")\n",
    "        y = sympy.latex(solve(hj, x))\n",
    "        display(Math(y))\n",
    "    elif choice == 2:\n",
    "        print \"Ingrese las ecuaciones despejadas y sin igualar a 0 (Ej 2*x + 3*y - 3)\"\n",
    "        print \"Ecuacion 1\"\n",
    "        fun1 = raw_input()\n",
    "        print \"Ecuacion 2\"\n",
    "        fun2 = raw_input()\n",
    "        solucion = solve([fun1, fun2], [x, y])\n",
    "        cx = sympy.latex(solucion)\n",
    "        display(Math((cx)))\n",
    "    elif choice == \"a\":\n",
    "        break"
   ]
  },
  {
   "cell_type": "markdown",
   "metadata": {},
   "source": [
    "## Calculo diferencial\n",
    "La funciÃ³n de cÃ¡lculo diferencial permite calcular integrales y derivadas de funciones"
   ]
  },
  {
   "cell_type": "code",
   "execution_count": null,
   "metadata": {
    "collapsed": false,
    "scrolled": true
   },
   "outputs": [],
   "source": [
    "# -*- coding: utf-8 -*-\n",
    "#Cálculo diferencial\n",
    "import numpy as np\n",
    "import math\n",
    "import sympy\n",
    "from __future__ import division\n",
    "import matplotlib.pyplot as plt\n",
    "from sympy import Symbol\n",
    "from IPython.display import display, Math, Latex\n",
    "%matplotlib inline\n",
    "%matplotlib notebook\n",
    "from sympy import init_session\n",
    "from sympy import *\n",
    "init_session()\n",
    "x, y, z = symbols('x y z')\n",
    "x = symbols('x')\n",
    "gloop = 1\n",
    "while gloop == 1:\n",
    "    print \"Que desea hacer:\"\n",
    "    print \"1) Derivar\"\n",
    "    print \"2) Integrar\"\n",
    "    print \"3) Integral definida\"\n",
    "    choice = raw_input(\"Seleccione una opcion: \")\n",
    "    if choice == \"1\":\n",
    "        func = raw_input(\"Introduzca la función a derivar: \")\n",
    "        var = raw_input(\"¿Para que variable quieres derivar?: \")\n",
    "        display(Math(sympy.latex(diff(func, var, 1))))\n",
    "#####################################################\n",
    "    elif choice == \"2\":\n",
    "        display(Integral(raw_input(\"Introduce funcion a integrar: \"), x))\n",
    "    elif choice == \"3\":\n",
    "        func = Integral(raw_input(\"Introduce funcion a integrar: \"), x, (x, a, b))\n",
    "        a = raw_input(\"Introduce primer valor del intervalo: \")\n",
    "        b = raw_input(\"Introduce segundo valor del intervalo: \")\n",
    "        display(func).evalf(20, quad='osc')\n",
    "        break\n",
    "    elif choice == \"a\":\n",
    "        break"
   ]
  },
  {
   "cell_type": "code",
   "execution_count": null,
   "metadata": {
    "collapsed": false
   },
   "outputs": [],
   "source": [
    "# -*- coding: utf-8 -*-\n",
    "#AnÃ¡lisis de funciones\n",
    "#WIP\n",
    "import numpy as np\n",
    "import math\n",
    "import sympy\n",
    "from __future__ import division\n",
    "import matplotlib.pyplot as plt\n",
    "from sympy import Symbol\n",
    "from IPython.display import display, Math, Latex\n",
    "%matplotlib inline\n",
    "%matplotlib notebook\n",
    "from sympy import init_session\n",
    "from sympy import *\n",
    "init_session()\n",
    "x, y, z = symbols('x y z')\n",
    "x = symbols('x')\n",
    "gloop = 1\n",
    "while gloop == 1:\n",
    "    fun = raw_input(\"Ingrese funcion: \")\n",
    "    print \" \"\n",
    "    print \"Puntos de corte con X: \"\n",
    "    display(Math(sympy.latex(solve(fun, x))))\n",
    "    print \"Puntos de corte con Y: \"\n",
    "    x = 0\n",
    "    display(Math(sympy.latex(eval(fun))))\n",
    "    x = symbols('x')\n",
    "    print \"Máximos y Mínimos\"\n",
    "    if sympy.latex(diff(fun, x, 1)) = 0:\n",
    "        if sympy.latex(diff(fun, x, 2)) < 0:\n",
    "            print \"Mínimo relativo\"\n",
    "            sympy.latex(fun.subs(x, solve(diff(fun, x, 2))))\n",
    "    "
   ]
  },
  {
   "cell_type": "code",
   "execution_count": null,
   "metadata": {
    "collapsed": false
   },
   "outputs": [],
   "source": [
    "# -*- coding: utf-8 -*-\n",
    "import numpy as np\n",
    "import matplotlib.pyplot as plt\n",
    "from __future__ import division\n",
    "import sympy\n",
    "from IPython.display import display, Math, Latex\n",
    "%matplotlib inline\n",
    "%matplotlib notebook\n",
    "from sympy import Symbol\n",
    "from sympy import init_session\n",
    "from sympy import *\n",
    "init_session()\n",
    "x, y, z = symbols('x y z')\n",
    "\n",
    "\n",
    "# Example data\n",
    "t = np.arange(0, 5, +0.01)\n",
    "s = raw_input(\"Introduce funcion: \") #Función a representar\n",
    "\n",
    "plt.rc('text', usetex=True)\n",
    "plt.rc('font', family='serif')\n",
    "plt.plot(t, s)\n",
    "plt.xlabel(r'\\textbf{X}')\n",
    "plt.ylabel(r'\\textit{Y}',fontsize=16)\n",
    "# Make room for the ridiculously large title.\n",
    "plt.subplots_adjust(top=0.8)\n",
    "\n",
    "plt.savefig('tex_demo')\n",
    "plt.show()"
   ]
  },
  {
   "cell_type": "code",
   "execution_count": null,
   "metadata": {
    "canopy_exercise": {
     "cell_type": "<None>"
    },
    "collapsed": false
   },
   "outputs": [],
   "source": [
    "# -*- coding: utf-8 -*-\n",
    "import numpy as np\n",
    "import math\n",
    "import sympy\n",
    "from __future__ import division\n",
    "import matplotlib.pyplot as plt\n",
    "from sympy import Symbol\n",
    "from IPython.display import display, Math, Latex\n",
    "%matplotlib inline\n",
    "%matplotlib notebook\n",
    "from sympy import init_session\n",
    "from sympy import *\n",
    "init_session()"
   ]
  }
 ],
 "metadata": {
  "kernelspec": {
   "display_name": "Python 2",
   "language": "python",
   "name": "python2"
  },
  "language_info": {
   "codemirror_mode": {
    "name": "ipython",
    "version": 2
   },
   "file_extension": ".py",
   "mimetype": "text/x-python",
   "name": "python",
   "nbconvert_exporter": "python",
   "pygments_lexer": "ipython2",
   "version": "2.7.10"
  }
 },
 "nbformat": 4,
 "nbformat_minor": 0
}
